{
 "cells": [
  {
   "cell_type": "markdown",
   "metadata": {},
   "source": [
    "# Running\n",
    "\n",
    "I love running. I also collect a lot of data about my runs through my Garmin watch. It's about time I did something interesting with it.\n",
    "\n",
    "## Where to get the data from?\n",
    "\n",
    "Garmin Connect and Strava are the two obvious places to retrieve my running history. Both give the user the option to bulk export their data history.\n",
    "\n",
    "- Garmin - [https://www.garmin.com/en-US/account/datamanagement/exportdata/](https://www.garmin.com/en-US/account/datamanagement/exportdata/)\n",
    "- Strava - [https://www.strava.com/athlete/delete_your_account](https://www.strava.com/athlete/delete_your_account) (don't be scared by the page name)\n",
    "\n",
    "These need to be compiled so these requests can take a while. They both send a link to your email address for you to retrieve the data. For me, Strava took about 5 mins, Garmin took about 20 mins. After having a quick look through both folders, Strava seems a lot more intuitive to understand, so for now I'll focus on files from there.\n",
    "\n",
    "## File types\n",
    "\n",
    "There are several file types across the folders=\n",
    "\n",
    "- `csv` - the activites summary is in this format\n",
    "- `gpx` - routes and some activities are stored as this\n",
    "- `fit.gz` - most of the activities are in this format. These are zipped .fit files."
   ]
  },
  {
   "cell_type": "markdown",
   "metadata": {},
   "source": [
    "## Running overview\n",
    "The activities summary file provides top level statistics about my activities to date. I've tackled this aspect of the data in an [R script](https://github.com/patricktudor/running/blob/main/Activity%20summary%20visualisations.R) because tidyverse is epic.\n",
    "\n",
    "## Individual activity data\n",
    "In this notebook I'm going to focus on tackling the activity `gpx` and `gz` files."
   ]
  },
  {
   "cell_type": "code",
   "execution_count": 1,
   "metadata": {},
   "outputs": [],
   "source": [
    "# import packages\n",
    "import pandas as pd\n",
    "import os\n",
    "import fnmatch\n",
    "import glob\n",
    "import gzip\n",
    "\n",
    "from tqdm import tqdm\n",
    "tqdm.pandas()\n",
    "\n",
    "from pathlib import Path"
   ]
  },
  {
   "cell_type": "markdown",
   "metadata": {},
   "source": [
    "First get a list of activities that are runs."
   ]
  },
  {
   "cell_type": "code",
   "execution_count": 70,
   "metadata": {},
   "outputs": [],
   "source": [
    "# open file\n",
    "activities = pd.read_csv(\"running-data-exports/Strava/activities.csv\")\n",
    "\n",
    "# get Activity IDs for run activities\n",
    "metrics_run = activities.loc[(activities['Activity Type'] == 'Run') & (activities['Filename'].str.endswith('fit.gz')), ['Activity ID', 'Filename']]\n",
    "run_ids = metrics_run['Filename'].to_list()\n",
    "\n",
    "# add file type to IDs\n",
    "# run_ids = [str(run) + '.fit.gz' for run in run_ids]\n",
    "\n",
    "data_folder = Path('running-data-exports/Strava/')\n",
    "\n",
    "run_files = []\n",
    "\n",
    "for run in run_ids:\n",
    "    file_to_open = Path(data_folder / run)\n",
    "    run_files.append(file_to_open)\n",
    "    \n",
    "\n",
    "# alternate method\n",
    "\n",
    "# get run activities using glob\n",
    "# note that recursive = True is required if '**' is specified for the directory\n",
    "activity_files = glob.glob('**/*.fit.gz', recursive = True)\n"
   ]
  },
  {
   "cell_type": "code",
   "execution_count": 71,
   "metadata": {},
   "outputs": [
    {
     "output_type": "stream",
     "name": "stdout",
     "text": [
      "c:\\Users\\ptudor\\Documents\\GitHub\\running\n"
     ]
    }
   ],
   "source": [
    "my_directory = os.getcwd()\n",
    "print(my_directory)"
   ]
  },
  {
   "cell_type": "code",
   "execution_count": 72,
   "metadata": {},
   "outputs": [
    {
     "output_type": "execute_result",
     "data": {
      "text/plain": [
       "813"
      ]
     },
     "metadata": {},
     "execution_count": 72
    }
   ],
   "source": [
    "len(run_files)"
   ]
  },
  {
   "cell_type": "code",
   "execution_count": 5,
   "metadata": {},
   "outputs": [
    {
     "output_type": "execute_result",
     "data": {
      "text/plain": [
       "[WindowsPath('running-data-exports/Strava/activities/143805738.tcx.gz'),\n",
       " WindowsPath('running-data-exports/Strava/activities/143805734.tcx.gz'),\n",
       " WindowsPath('running-data-exports/Strava/activities/143859088.tcx.gz'),\n",
       " WindowsPath('running-data-exports/Strava/activities/143859096.tcx.gz'),\n",
       " WindowsPath('running-data-exports/Strava/activities/143859092.tcx.gz')]"
      ]
     },
     "metadata": {},
     "execution_count": 5
    }
   ],
   "source": [
    "run_files[0:5]"
   ]
  },
  {
   "cell_type": "code",
   "execution_count": 67,
   "metadata": {},
   "outputs": [
    {
     "output_type": "execute_result",
     "data": {
      "text/plain": [
       "1267"
      ]
     },
     "metadata": {},
     "execution_count": 67
    }
   ],
   "source": [
    "len(activity_files)"
   ]
  },
  {
   "cell_type": "markdown",
   "metadata": {},
   "source": [
    "## .FIT files\n",
    "A .fit.gz file is a zipped .fit file. FIT stands for Flexible and Interoperable Data Transfer. They are for storing data originating from health devices from Garmin / Ant.\n",
    "\n",
    "This is how to open a .fit.gz file -"
   ]
  },
  {
   "cell_type": "code",
   "execution_count": 7,
   "metadata": {
    "tags": []
   },
   "outputs": [
    {
     "output_type": "stream",
     "name": "stdout",
     "text": [
      "b'\\x0e\\x10\\xf4\\x03\\xb2\\x05\\x00\\x00.FIT\\xec\\xce@\\x00\\x00\\x00\\x00\\x06\\x03\\x04\\x8c\\x04\\x04\\x86\\x01\\x02\\x84\\x02\\x02\\x84\\x05\\x02\\x84\\x00\\x01\\x00\\x00>M \\xe7\\x8f\\xa4H3\\x01\\x00W\\x06\\xff\\xff\\x04A\\x00\\x001\\x00\\x02\\x00\\x02\\x84\\x01\\x01\\x02\\x01J\\x01\\xffB\\x00\\x00\\x15\\x00\\x05\\xfd\\x04\\x86\\x03\\x04\\x86\\x00\\x01\\x00\\x01\\x01\\x00\\x04\\x01\\x02\\x02\\x90\\xa4H3\\x00\\x00\\x00\\x00\\x00\\x00\\x00C\\x00\\x00\\x17\\x00\\x14\\xfd\\x04\\x86\\x03\\x04\\x8c\\x07\\x04\\x86\\x08\\x04\\x86\\x0f\\x04\\x86\\x10\\x04\\x86\\x02\\x02\\x84\\x04\\x02\\x84\\x05\\x02\\x84\\n'\nb'\\x02\\x84\\x15\\x02\\x8b\\x00\\x01\\x02\\x01\\x01\\x02\\x06\\x01\\x02\\t\\x01\\x02\\x0b\\x01\\x02\\x14\\x01\\n'\nb'\\x16\\x01\\x00\\x17\\x01\\x02\\x19\\x01\\x00\\x03\\x90\\xa4H3>M \\xe7\\xff\\xff\\xff\\xff\\xff\\xff\\xff\\xff\\xff\\xff\\xff\\xff\\xff\\xff\\xff\\xff\\x01\\x00W\\x06J\\x01\\xff\\xff\\x00\\x00\\x00\\xff\\xff\\xff\\xff\\x00\\xff\\xff\\x05\\x03\\x90\\xa4H3\\x00\\x00\\x00\\x00\\xff\\xff\\xff\\xff\\xff\\xff\\xff\\xff\\xff\\xff\\xff\\xff\\xff\\xff\\xff\\xff\\x01\\x00\\x99\\x06^\\x01\\xff\\xff\\x00\\x00\\x01\\x00\\xff\\xff\\xff\\x00\\xff\\xff\\x05\\x03\\x90\\xa4H3\\x00\\x00\\x00\\x00\\xff\\xff\\xff\\xff\\xff\\xff\\xff\\xff\\xff\\xff\\xff\\xff\\xff\\xff\\xff\\xff\\x00\\x00\\x00\\x00\\x00\\x00\\xff\\xff\\x00\\x00\\x02\\x03\\xff\\xff\\xff\\x00\\xff\\xff\\x05D\\x00\\x00\\x16\\x00\\x07\\xfd\\x04\\x86\\x00\\x01\\x02\\x01\\x01\\x02\\x02\\x01\\x02\\x03\\x01\\x02\\x04\\x01\\x02\\x05\\x01\\x00\\x04\\x90\\xa4H3\\x01\\x01\\xff\\x01\\xff\\x00E\\x00\\x00O\\x00\\x0b\\xfd\\x04\\x86\\x00\\x02\\x84\\x03\\x02\\x84\\x08\\x02\\x84\\t\\x02\\x84\\x01\\x01\\x02\\x02\\x01\\x02\\x04\\x01\\x00\\x05\\x01\\x00\\x06\\x01\\x02\\x07\\x01\\x01\\x05\\x90\\xa4H3\\x908\\x02\\x03\\x01\\x00\\x00\\x00\\x1c\\xb2\\x01F\\xc0\\x01F\\x00\\x00\\x8d\\x00\\x07\\xfd\\x04\\x86\\x01\\x04\\x86\\x02\\x04\\x86\\x03\\x04\\x86\\x04\\x04\\x85\\x05\\x04\\x85\\x00\\x01\\x00\\x06\\x90\\xa4H3@a:3`\\x01>3\\xff\\xff\\xff\\xff\\xff\\xff\\xff\\x7f\\xff\\xff\\xff\\x7f\\x01G\\x00\\x00\\x14\\x00\\x06\\xfd\\x04\\x86\\x00\\x04\\x85\\x01\\x04\\x85\\x05\\x04\\x86\\x02\\x02\\x84\\x06\\x02\\x84\\x07\\x90\\xa4H3\\r\\x0f\\xab \\xe9um\\x05\\x00\\x00\\x00\\x00j2\\x00\\x00\\x07\\x91\\xa4H3B\\x0e\\xab Zvm\\x05\\xbd\\x00\\x00\\x00V2\\x92\\x03\\x07\\xa4\\xa4H3\\x1d\\n'\nb'\\xab \\x85\\x80m\\x05\\xbe\\t\\x00\\x00/2\\x12\\x0e\\x07\\xae\\xa4H3D\\xf8\\xaa \\xc3|m\\x05F\\x1c\\x00\\x00#2\\x19\\x13\\x07\\xaf\\xa4H3\\x87\\xf6\\xaa U{m\\x05!\\x1e\\x00\\x00\"2+\\x11\\x07\\xb5\\xa4H3\\xf3\\xea\\xaa uvm\\x05\\xbb*\\x00\\x00\\x152\\x12\\x17\\x07\\xb6\\xa4H3n\\xe8\\xaa \\x85tm\\x05`-\\x00\\x00\\n'\nb'2W\\x14\\x07\\xc1\\xa4H3\"\\xd4\\xaa \\x0fem\\x05\\x10E\\x00\\x00\\xc81\\xed\\x16\\x07\\xcb\\xa4H3b\\xc0\\xaa zHm\\x05\\xc9^\\x00\\x0051~\\x1f\\x07\\xd2\\xa4H3\\xf8\\xac\\xaa \\x8b7m\\x05\\xfes\\x00\\x00\\xe60\\xe0\\x17\\x07\\xd3\\xa4H3\\x84\\xaa\\xaa x7m\\x05Ev\\x00\\x00\\xea0R\\x15\\x07\\xd9\\xa4H3^\\xa3\\xaa \\xa54m\\x05\\x12}\\x00\\x00\\xe60\\x92\\x03H\\x00\\x00\\x8c\\x00\\x0c\\xfd\\x04\\x86\\x02\\x04\\x85\\x03\\x04\\x85\\x05\\x04\\x85\\x06\\x04\\x85\\x07\\x04\\x85\\t\\x02\\x84\\n'\nb'\\x02\\x84\\x00\\x01\\x02\\x01\\x01\\x02\\x04\\x01\\x02\\x08\\x01\\x02\\x08\\x1a\\xa5H3\\x00\\x00\\x00\\x00\\x00\\x00\\x00\\x00\\x00\\x00\\x00\\x00\\x00\\x00\\x00\\x00\\x10$\\x0e\\x00\\x04\\x00T\\x01\\x00\\x00\\n'\nb\"\\x00\\x02\\x1a\\xa5H3\\x04\\x00\\x00\\x00&\\x03\\xff\\x02\\x1a\\xa5H31\\x00\\x00\\x00%\\x03\\xff\\x07\\x1b\\xa5H3X\\xa0\\xaa \\xf07m\\x05F\\x84\\x00\\x00\\xeb0\\x00\\x00\\x02\\x1b\\xa5H3\\x00\\x00\\x00\\x00\\x00\\x04\\x00\\x03\\x1b\\xa5H3>M \\xe7\\xff\\xff\\xff\\xff\\xff\\xff\\xff\\xff\\xff\\xff\\xff\\xff\\xff\\xff\\xff\\xff\\x01\\x00W\\x06J\\x01\\xff\\xff\\x00\\x00\\x00\\xff\\xff\\xff\\xff\\x00\\xff\\xff\\x05\\x03\\x1b\\xa5H3\\x00\\x00\\x00\\x00\\xff\\xff\\xff\\xff\\xff\\xff\\xff\\xff\\xff\\xff\\xff\\xff\\xff\\xff\\xff\\xff\\x01\\x00\\x99\\x06^\\x01\\xff\\xff\\x00\\x00\\x01\\x00\\xff\\xff\\xff\\x00\\xff\\xff\\x05\\x03\\x1b\\xa5H3\\x00\\x00\\x00\\x00\\xff\\xff\\xff\\xff\\xff\\xff\\xff\\xff\\xff\\xff\\xff\\xff\\xff\\xff\\xff\\xff\\x00\\x00\\x00\\x00\\x00\\x00\\xff\\xff\\x00\\x00\\x02\\x03\\xff\\xff\\xff\\x00\\xff\\xff\\x05I\\x00\\x00\\x13\\x00'\\xfd\\x04\\x86\\x02\\x04\\x86\\x03\\x04\\x85\\x04\\x04\\x85\\x05\\x04\\x85\\x06\\x04\\x85\\x07\\x04\\x86\\x08\\x04\\x86\\t\\x04\\x86\\n\"\nb\"\\x04\\x86\\x1b\\x04\\x85\\x1c\\x04\\x85\\x1d\\x04\\x85\\x1e\\x04\\x85\\xfe\\x02\\x84\\x0b\\x02\\x84\\r\\x02\\x84\\x0e\\x02\\x84\\x15\\x02\\x84\\x16\\x02\\x84G\\x02\\x84M\\x02\\x84N\\x02\\x84O\\x02\\x84\\x00\\x01\\x00\\x01\\x01\\x00\\x0f\\x01\\x02\\x10\\x01\\x02\\x11\\x01\\x02\\x12\\x01\\x02\\x17\\x01\\x00\\x18\\x01\\x00\\x19\\x01\\x00\\x1a\\x01\\x02'\\x01\\x00H\\x01\\x00P\\x01\\x02Q\\x01\\x02R\\x01\\x02\\t1\\xabH3\\x90\\xa4H3\\r\\x0f\\xab \\xe9um\\x05X\\xa0\\xaa \\xf07m\\x05\\x14\\x1f\\x02\\x00\\x14\\x1f\\x02\\x00F\\x84\\x00\\x00\\xff\\xff\\xff\\xff\\r\\x0f\\xab _\\x81m\\x05\\xe4\\x9f\\xaa |4m\\x05\\x00\\x00\\x07\\x00\\x84\\tD$\\x00\\x00M\\x00\\xff\\xff\\xff\\xff\\xff\\xff\\xff\\xff\\t\\x01\\xff\\xff\\xff\\xff\\xff\\x07\\x02\\xff\\xff\\xff\\xff\\xff\\xff\\x021\\xabH3\\x01\\x00\\x00\\x00\\x08\\t\\x01J\\x00\\x00\\x12\\x00&\\xfd\\x04\\x86\\x02\\x04\\x86\\x03\\x04\\x85\\x04\\x04\\x85\\x07\\x04\\x86\\x08\\x04\\x86\\t\\x04\\x86\\n\"\nb'\\x04\\x86\\x1d\\x04\\x85\\x1e\\x04\\x85\\x1f\\x04\\x85 \\x04\\x85\\xfe\\x02\\x84\\x0b\\x02\\x84\\x0e\\x02\\x84\\x0f\\x02\\x84\\x16\\x02\\x84\\x17\\x02\\x84\\x19\\x02\\x84\\x1a\\x02\\x84Y\\x02\\x84Z\\x02\\x84[\\x02\\x84\\x00\\x01\\x00\\x01\\x01\\x00\\x05\\x01\\x00\\x06\\x01\\x00\\x10\\x01\\x02\\x11\\x01\\x02\\x12\\x01\\x02\\x13\\x01\\x02\\x18\\x01\\x02\\x1b\\x01\\x02\\x1c\\x01\\x00Q\\x01\\x00\\\\\\x01\\x02]\\x01\\x02^\\x01\\x02\\n'\nb'1\\xabH3\\x90\\xa4H3\\r\\x0f\\xab \\xe9um\\x05\\x14\\x1f\\x02\\x00\\x14\\x1f\\x02\\x00F\\x84\\x00\\x00\\xff\\xff\\xff\\xff\\r\\x0f\\xab _\\x81m\\x05\\xe4\\x9f\\xaa |4m\\x05\\x00\\x00\\x07\\x00\\x84\\tD$\\x00\\x00M\\x00\\x00\\x00\\x01\\x00\\xff\\xff\\xff\\xff\\xff\\xff\\t\\x01\\x02\\x00\\xff\\xff\\xff\\xff\\xff\\xff\\x00\\x00\\xff\\xff\\xffK\\x00\\x00\"\\x00\\x08\\xfd\\x04\\x86\\x00\\x04\\x86\\x05\\x04\\x86\\x01\\x02\\x84\\x02\\x01\\x00\\x03\\x01\\x00\\x04\\x01\\x00\\x06\\x01\\x02\\x0b1\\xabH3\\x14\\x1f\\x02\\x00Q\\xc7H3\\x01\\x00\\x00\\x1a\\x01\\xff|\"'\n"
     ]
    }
   ],
   "source": [
    "# select one file\n",
    "my_run = activity_files[8]\n",
    "\n",
    "with gzip.open(my_run, 'r') as run:\n",
    "    for line in run:\n",
    "        print(line) "
   ]
  },
  {
   "cell_type": "markdown",
   "metadata": {},
   "source": [
    "A chap called David Cooper has created a python library called [fitparse](https://github.com/dtcooper/python-fitparse) to parse .FIT files. Lets install it and see how it can help."
   ]
  },
  {
   "cell_type": "code",
   "execution_count": 8,
   "metadata": {},
   "outputs": [],
   "source": [
    "# install the package\n",
    "# pip install fitparse\n",
    "\n",
    "import fitparse"
   ]
  },
  {
   "source": [
    "The following script is taken from his Github page to show to to view data in a .Fit file."
   ],
   "cell_type": "markdown",
   "metadata": {}
  },
  {
   "cell_type": "code",
   "execution_count": 12,
   "metadata": {
    "tags": [
     "outputPrepend"
    ]
   },
   "outputs": [
    {
     "output_type": "stream",
     "name": "stdout",
     "text": [
      "08:44:10\n---\n * altitude: 27.399999999999977 (m)\n * cadence: 89 (rpm)\n * distance: 495.97 (m)\n * enhanced_altitude: 27.399999999999977 (m)\n * enhanced_speed: 3.266 (m/s)\n * fractional_cadence: 0.0 (rpm)\n * position_lat: 615709511 (semicircles)\n * position_long: -47441449 (semicircles)\n * speed: 3.266 (m/s)\n * timestamp: 2017-03-18 08:44:15\n---\n * altitude: 28.200000000000045 (m)\n * cadence: 89 (rpm)\n * distance: 519.33 (m)\n * enhanced_altitude: 28.200000000000045 (m)\n * enhanced_speed: 3.284 (m/s)\n * fractional_cadence: 0.0 (rpm)\n * position_lat: 615708592 (semicircles)\n * position_long: -47445217 (semicircles)\n * speed: 3.284 (m/s)\n * timestamp: 2017-03-18 08:44:22\n---\n * altitude: 31.600000000000023 (m)\n * cadence: 88 (rpm)\n * distance: 542.12 (m)\n * enhanced_altitude: 31.600000000000023 (m)\n * enhanced_speed: 3.303 (m/s)\n * fractional_cadence: 0.0 (rpm)\n * position_lat: 615707143 (semicircles)\n * position_long: -47448328 (semicircles)\n * speed: 3.303 (m/s)\n * timestamp: 2017-03-18 08:44:29\n---\n * altitude: 34.799999999999955 (m)\n * cadence: 89 (rpm)\n * distance: 564.42 (m)\n * enhanced_altitude: 34.799999999999955 (m)\n * enhanced_speed: 3.303 (m/s)\n * fractional_cadence: 0.0 (rpm)\n * position_lat: 615706276 (semicircles)\n * position_long: -47451890 (semicircles)\n * speed: 3.303 (m/s)\n * timestamp: 2017-03-18 08:44:36\n---\n * altitude: 37.0 (m)\n * cadence: 89 (rpm)\n * distance: 587.41 (m)\n * enhanced_altitude: 37.0 (m)\n * enhanced_speed: 3.294 (m/s)\n * fractional_cadence: 0.0 (rpm)\n * position_lat: 615705223 (semicircles)\n * position_long: -47455490 (semicircles)\n * speed: 3.294 (m/s)\n * timestamp: 2017-03-18 08:44:43\n---\n * altitude: 39.39999999999998 (m)\n * cadence: 89 (rpm)\n * distance: 607.81 (m)\n * enhanced_altitude: 39.39999999999998 (m)\n * enhanced_speed: 3.294 (m/s)\n * fractional_cadence: 0.0 (rpm)\n * position_lat: 615703964 (semicircles)\n * position_long: -47458390 (semicircles)\n * speed: 3.294 (m/s)\n * timestamp: 2017-03-18 08:44:49\n---\n * altitude: 40.60000000000002 (m)\n * cadence: 88 (rpm)\n * distance: 629.41 (m)\n * enhanced_altitude: 40.60000000000002 (m)\n * enhanced_speed: 3.312 (m/s)\n * fractional_cadence: 0.0 (rpm)\n * position_lat: 615703107 (semicircles)\n * position_long: -47461899 (semicircles)\n * speed: 3.312 (m/s)\n * timestamp: 2017-03-18 08:44:56\n---\n * altitude: 41.799999999999955 (m)\n * cadence: 88 (rpm)\n * distance: 650.06 (m)\n * enhanced_altitude: 41.799999999999955 (m)\n * enhanced_speed: 3.294 (m/s)\n * fractional_cadence: 0.0 (rpm)\n * position_lat: 615702262 (semicircles)\n * position_long: -47465255 (semicircles)\n * speed: 3.294 (m/s)\n * timestamp: 2017-03-18 08:45:02\n---\n * altitude: 40.39999999999998 (m)\n * cadence: 87 (rpm)\n * distance: 671.27 (m)\n * enhanced_altitude: 40.39999999999998 (m)\n * enhanced_speed: 3.322 (m/s)\n * fractional_cadence: 0.0 (rpm)\n * position_lat: 615701199 (semicircles)\n * position_long: -47468437 (semicircles)\n * speed: 3.322 (m/s)\n * timestamp: 2017-03-18 08:45:09\n---\n * altitude: 38.60000000000002 (m)\n * cadence: 86 (rpm)\n * distance: 691.98 (m)\n * enhanced_altitude: 38.60000000000002 (m)\n * enhanced_speed: 1.568 (m/s)\n * fractional_cadence: 0.5 (rpm)\n * position_lat: 615699975 (semicircles)\n * position_long: -47469998 (semicircles)\n * speed: 1.568 (m/s)\n * timestamp: 2017-03-18 08:45:22\n---\n * altitude: 37.799999999999955 (m)\n * cadence: 87 (rpm)\n * distance: 707.94 (m)\n * enhanced_altitude: 37.799999999999955 (m)\n * enhanced_speed: 1.017 (m/s)\n * fractional_cadence: 0.5 (rpm)\n * position_lat: 615698455 (semicircles)\n * position_long: -47469520 (semicircles)\n * speed: 1.017 (m/s)\n * timestamp: 2017-03-18 08:45:33\n---\n * altitude: 36.799999999999955 (m)\n * cadence: 89 (rpm)\n * distance: 729.52 (m)\n * enhanced_altitude: 36.799999999999955 (m)\n * enhanced_speed: 3.144 (m/s)\n * fractional_cadence: 0.0 (rpm)\n * position_lat: 615699237 (semicircles)\n * position_long: -47466116 (semicircles)\n * speed: 3.144 (m/s)\n * timestamp: 2017-03-18 08:45:40\n---\n * altitude: 34.60000000000002 (m)\n * cadence: 89 (rpm)\n * distance: 751.5 (m)\n * enhanced_altitude: 34.60000000000002 (m)\n * enhanced_speed: 3.182 (m/s)\n * fractional_cadence: 0.0 (rpm)\n * position_lat: 615700831 (semicircles)\n * position_long: -47463261 (semicircles)\n * speed: 3.182 (m/s)\n * timestamp: 2017-03-18 08:45:46\n---\n * altitude: 33.799999999999955 (m)\n * cadence: 90 (rpm)\n * distance: 773.67 (m)\n * enhanced_altitude: 33.799999999999955 (m)\n * enhanced_speed: 3.312 (m/s)\n * fractional_cadence: 0.0 (rpm)\n * position_lat: 615702213 (semicircles)\n * position_long: -47460142 (semicircles)\n * speed: 3.312 (m/s)\n * timestamp: 2017-03-18 08:45:52\n---\n * altitude: 32.0 (m)\n * cadence: 89 (rpm)\n * distance: 795.68 (m)\n * enhanced_altitude: 32.0 (m)\n * enhanced_speed: 3.424 (m/s)\n * fractional_cadence: 0.5 (rpm)\n * position_lat: 615703319 (semicircles)\n * position_long: -47456793 (semicircles)\n * speed: 3.424 (m/s)\n * timestamp: 2017-03-18 08:45:58\n---\n * altitude: 30.200000000000045 (m)\n * cadence: 89 (rpm)\n * distance: 819.03 (m)\n * enhanced_altitude: 30.200000000000045 (m)\n * enhanced_speed: 3.508 (m/s)\n * fractional_cadence: 0.0 (rpm)\n * position_lat: 615704322 (semicircles)\n * position_long: -47453123 (semicircles)\n * speed: 3.508 (m/s)\n * timestamp: 2017-03-18 08:46:05\n---\n * altitude: 31.200000000000045 (m)\n * cadence: 89 (rpm)\n * distance: 840.47 (m)\n * enhanced_altitude: 31.200000000000045 (m)\n * enhanced_speed: 3.49 (m/s)\n * fractional_cadence: 0.0 (rpm)\n * position_lat: 615705737 (semicircles)\n * position_long: -47450229 (semicircles)\n * speed: 3.49 (m/s)\n * timestamp: 2017-03-18 08:46:11\n---\n * altitude: 32.60000000000002 (m)\n * cadence: 88 (rpm)\n * distance: 862.15 (m)\n * enhanced_altitude: 32.60000000000002 (m)\n * enhanced_speed: 3.499 (m/s)\n * fractional_cadence: 0.0 (rpm)\n * position_lat: 615706887 (semicircles)\n * position_long: -47446985 (semicircles)\n * speed: 3.499 (m/s)\n * timestamp: 2017-03-18 08:46:17\n---\n * altitude: 31.399999999999977 (m)\n * cadence: 88 (rpm)\n * distance: 884.08 (m)\n * enhanced_altitude: 31.399999999999977 (m)\n * enhanced_speed: 3.527 (m/s)\n * fractional_cadence: 0.0 (rpm)\n * position_lat: 615708045 (semicircles)\n * position_long: -47443705 (semicircles)\n * speed: 3.527 (m/s)\n * timestamp: 2017-03-18 08:46:23\n---\n * altitude: 32.39999999999998 (m)\n * cadence: 89 (rpm)\n * distance: 904.95 (m)\n * enhanced_altitude: 32.39999999999998 (m)\n * enhanced_speed: 3.564 (m/s)\n * fractional_cadence: 0.0 (rpm)\n * position_lat: 615709013 (semicircles)\n * position_long: -47440470 (semicircles)\n * speed: 3.564 (m/s)\n * timestamp: 2017-03-18 08:46:29\n---\n * altitude: 33.200000000000045 (m)\n * cadence: 88 (rpm)\n * distance: 926.65 (m)\n * enhanced_altitude: 33.200000000000045 (m)\n * enhanced_speed: 3.564 (m/s)\n * fractional_cadence: 0.0 (rpm)\n * position_lat: 615710272 (semicircles)\n * position_long: -47437331 (semicircles)\n * speed: 3.564 (m/s)\n * timestamp: 2017-03-18 08:46:35\n---\n * altitude: 34.799999999999955 (m)\n * cadence: 89 (rpm)\n * distance: 947.08 (m)\n * enhanced_altitude: 34.799999999999955 (m)\n * enhanced_speed: 3.564 (m/s)\n * fractional_cadence: 0.0 (rpm)\n * position_lat: 615711283 (semicircles)\n * position_long: -47434212 (semicircles)\n * speed: 3.564 (m/s)\n * timestamp: 2017-03-18 08:46:41\n---\n * altitude: 34.0 (m)\n * cadence: 88 (rpm)\n * distance: 968.52 (m)\n * enhanced_altitude: 34.0 (m)\n * enhanced_speed: 3.527 (m/s)\n * fractional_cadence: 0.0 (rpm)\n * position_lat: 615712433 (semicircles)\n * position_long: -47431022 (semicircles)\n * speed: 3.527 (m/s)\n * timestamp: 2017-03-18 08:46:47\n---\n * altitude: 34.200000000000045 (m)\n * cadence: 88 (rpm)\n * distance: 988.77 (m)\n * enhanced_altitude: 34.200000000000045 (m)\n * enhanced_speed: 3.518 (m/s)\n * fractional_cadence: 0.0 (rpm)\n * position_lat: 615713545 (semicircles)\n * position_long: -47428046 (semicircles)\n * speed: 3.518 (m/s)\n * timestamp: 2017-03-18 08:46:53\n---\n * altitude: 33.799999999999955 (m)\n * cadence: 88 (rpm)\n * distance: 1001.88 (m)\n * enhanced_altitude: 33.799999999999955 (m)\n * enhanced_speed: 3.508 (m/s)\n * fractional_cadence: 0.0 (rpm)\n * position_lat: 615714174 (semicircles)\n * position_long: -47426027 (semicircles)\n * speed: 3.508 (m/s)\n * timestamp: 2017-03-18 08:46:57\n---\n * altitude: 30.0 (m)\n * cadence: 89 (rpm)\n * distance: 1024.28 (m)\n * enhanced_altitude: 30.0 (m)\n * enhanced_speed: 3.424 (m/s)\n * fractional_cadence: 0.0 (rpm)\n * position_lat: 615715537 (semicircles)\n * position_long: -47422865 (semicircles)\n * speed: 3.424 (m/s)\n * timestamp: 2017-03-18 08:47:04\n---\n * altitude: 26.799999999999955 (m)\n * cadence: 89 (rpm)\n * distance: 1044.76 (m)\n * enhanced_altitude: 26.799999999999955 (m)\n * enhanced_speed: 3.368 (m/s)\n * fractional_cadence: 0.0 (rpm)\n * position_lat: 615716778 (semicircles)\n * position_long: -47419958 (semicircles)\n * speed: 3.368 (m/s)\n * timestamp: 2017-03-18 08:47:10\n---\n * altitude: 25.799999999999955 (m)\n * cadence: 88 (rpm)\n * distance: 1065.32 (m)\n * enhanced_altitude: 25.799999999999955 (m)\n * enhanced_speed: 3.368 (m/s)\n * fractional_cadence: 0.0 (rpm)\n * position_lat: 615717872 (semicircles)\n * position_long: -47416876 (semicircles)\n * speed: 3.368 (m/s)\n * timestamp: 2017-03-18 08:47:16\n---\n * altitude: 26.0 (m)\n * cadence: 89 (rpm)\n * distance: 1085.75 (m)\n * enhanced_altitude: 26.0 (m)\n * enhanced_speed: 3.378 (m/s)\n * fractional_cadence: 0.0 (rpm)\n * position_lat: 615718953 (semicircles)\n * position_long: -47413839 (semicircles)\n * speed: 3.378 (m/s)\n * timestamp: 2017-03-18 08:47:22\n---\n * altitude: 25.0 (m)\n * cadence: 88 (rpm)\n * distance: 1106.79 (m)\n * enhanced_altitude: 25.0 (m)\n * enhanced_speed: 3.387 (m/s)\n * fractional_cadence: 0.0 (rpm)\n * position_lat: 615720164 (semicircles)\n * position_long: -47410780 (semicircles)\n * speed: 3.387 (m/s)\n * timestamp: 2017-03-18 08:47:28\n---\n * altitude: 24.200000000000045 (m)\n * cadence: 87 (rpm)\n * distance: 1129.84 (m)\n * enhanced_altitude: 24.200000000000045 (m)\n * enhanced_speed: 3.415 (m/s)\n * fractional_cadence: 0.0 (rpm)\n * position_lat: 615721362 (semicircles)\n * position_long: -47407298 (semicircles)\n * speed: 3.415 (m/s)\n * timestamp: 2017-03-18 08:47:35\n---\n * altitude: 23.200000000000045 (m)\n * cadence: 88 (rpm)\n * distance: 1153.1 (m)\n * enhanced_altitude: 23.200000000000045 (m)\n * enhanced_speed: 3.396 (m/s)\n * fractional_cadence: 0.0 (rpm)\n * position_lat: 615722665 (semicircles)\n * position_long: -47403889 (semicircles)\n * speed: 3.396 (m/s)\n * timestamp: 2017-03-18 08:47:42\n---\n * altitude: 22.600000000000023 (m)\n * cadence: 89 (rpm)\n * distance: 1173.88 (m)\n * enhanced_altitude: 22.600000000000023 (m)\n * enhanced_speed: 3.387 (m/s)\n * fractional_cadence: 0.0 (rpm)\n * position_lat: 615723791 (semicircles)\n * position_long: -47400794 (semicircles)\n * speed: 3.387 (m/s)\n * timestamp: 2017-03-18 08:47:48\n---\n * altitude: 22.600000000000023 (m)\n * cadence: 88 (rpm)\n * distance: 1194.98 (m)\n * enhanced_altitude: 22.600000000000023 (m)\n * enhanced_speed: 3.396 (m/s)\n * fractional_cadence: 0.0 (rpm)\n * position_lat: 615724885 (semicircles)\n * position_long: -47397609 (semicircles)\n * speed: 3.396 (m/s)\n * timestamp: 2017-03-18 08:47:54\n---\n * altitude: 22.200000000000045 (m)\n * cadence: 89 (rpm)\n * distance: 1215.2 (m)\n * enhanced_altitude: 22.200000000000045 (m)\n * enhanced_speed: 3.415 (m/s)\n * fractional_cadence: 0.0 (rpm)\n * position_lat: 615725900 (semicircles)\n * position_long: -47394520 (semicircles)\n * speed: 3.415 (m/s)\n * timestamp: 2017-03-18 08:48:00\n---\n * altitude: 20.600000000000023 (m)\n * cadence: 89 (rpm)\n * distance: 1235.88 (m)\n * enhanced_altitude: 20.600000000000023 (m)\n * enhanced_speed: 3.415 (m/s)\n * fractional_cadence: 0.0 (rpm)\n * position_lat: 615726819 (semicircles)\n * position_long: -47391231 (semicircles)\n * speed: 3.415 (m/s)\n * timestamp: 2017-03-18 08:48:06\n---\n * altitude: 22.600000000000023 (m)\n * cadence: 88 (rpm)\n * distance: 1257.88 (m)\n * enhanced_altitude: 22.600000000000023 (m)\n * enhanced_speed: 3.396 (m/s)\n * fractional_cadence: 0.0 (rpm)\n * position_lat: 615728047 (semicircles)\n * position_long: -47387990 (semicircles)\n * speed: 3.396 (m/s)\n * timestamp: 2017-03-18 08:48:13\n---\n * altitude: 23.799999999999955 (m)\n * cadence: 87 (rpm)\n * distance: 1260.39 (m)\n * enhanced_altitude: 23.799999999999955 (m)\n * enhanced_speed: 3.396 (m/s)\n * fractional_cadence: 0.0 (rpm)\n * position_lat: 615728080 (semicircles)\n * position_long: -47387555 (semicircles)\n * speed: 3.396 (m/s)\n * timestamp: 2017-03-18 08:48:14\n---\n * altitude: 24.200000000000045 (m)\n * cadence: 85 (rpm)\n * distance: 1283.13 (m)\n * enhanced_altitude: 24.200000000000045 (m)\n * enhanced_speed: 3.35 (m/s)\n * fractional_cadence: 0.5 (rpm)\n * position_lat: 615727237 (semicircles)\n * position_long: -47383980 (semicircles)\n * speed: 3.35 (m/s)\n * timestamp: 2017-03-18 08:48:21\n---\n * altitude: 23.600000000000023 (m)\n * cadence: 87 (rpm)\n * distance: 1305.84 (m)\n * enhanced_altitude: 23.600000000000023 (m)\n * enhanced_speed: 3.322 (m/s)\n * fractional_cadence: 0.5 (rpm)\n * position_lat: 615728378 (semicircles)\n * position_long: -47380525 (semicircles)\n * speed: 3.322 (m/s)\n * timestamp: 2017-03-18 08:48:28\n---\n * altitude: 23.399999999999977 (m)\n * cadence: 87 (rpm)\n * distance: 1328.92 (m)\n * enhanced_altitude: 23.399999999999977 (m)\n * enhanced_speed: 3.312 (m/s)\n * fractional_cadence: 0.5 (rpm)\n * position_lat: 615729213 (semicircles)\n * position_long: -47376782 (semicircles)\n * speed: 3.312 (m/s)\n * timestamp: 2017-03-18 08:48:35\n---\n * altitude: 23.399999999999977 (m)\n * cadence: 87 (rpm)\n * distance: 1351.61 (m)\n * enhanced_altitude: 23.399999999999977 (m)\n * enhanced_speed: 3.312 (m/s)\n * fractional_cadence: 0.5 (rpm)\n * position_lat: 615730370 (semicircles)\n * position_long: -47373335 (semicircles)\n * speed: 3.312 (m/s)\n * timestamp: 2017-03-18 08:48:42\n---\n * altitude: 23.200000000000045 (m)\n * cadence: 87 (rpm)\n * distance: 1372.57 (m)\n * enhanced_altitude: 23.200000000000045 (m)\n * enhanced_speed: 3.303 (m/s)\n * fractional_cadence: 0.5 (rpm)\n * position_lat: 615731465 (semicircles)\n * position_long: -47370181 (semicircles)\n * speed: 3.303 (m/s)\n * timestamp: 2017-03-18 08:48:49\n---\n * altitude: 23.600000000000023 (m)\n * cadence: 88 (rpm)\n * distance: 1394.01 (m)\n * enhanced_altitude: 23.600000000000023 (m)\n * enhanced_speed: 3.266 (m/s)\n * fractional_cadence: 0.0 (rpm)\n * position_lat: 615732393 (semicircles)\n * position_long: -47366805 (semicircles)\n * speed: 3.266 (m/s)\n * timestamp: 2017-03-18 08:48:56\n---\n * altitude: 23.399999999999977 (m)\n * cadence: 87 (rpm)\n * distance: 1417.19 (m)\n * enhanced_altitude: 23.399999999999977 (m)\n * enhanced_speed: 3.238 (m/s)\n * fractional_cadence: 0.0 (rpm)\n * position_lat: 615733447 (semicircles)\n * position_long: -47363186 (semicircles)\n * speed: 3.238 (m/s)\n * timestamp: 2017-03-18 08:49:03\n---\n * altitude: 25.0 (m)\n * cadence: 88 (rpm)\n * distance: 1437.54 (m)\n * enhanced_altitude: 25.0 (m)\n * enhanced_speed: 3.238 (m/s)\n * fractional_cadence: 0.0 (rpm)\n * position_lat: 615734331 (semicircles)\n * position_long: -47360002 (semicircles)\n * speed: 3.238 (m/s)\n * timestamp: 2017-03-18 08:49:09\n---\n * altitude: 24.200000000000045 (m)\n * cadence: 88 (rpm)\n * distance: 1459.12 (m)\n * enhanced_altitude: 24.200000000000045 (m)\n * enhanced_speed: 3.247 (m/s)\n * fractional_cadence: 0.0 (rpm)\n * position_lat: 615735264 (semicircles)\n * position_long: -47356598 (semicircles)\n * speed: 3.247 (m/s)\n * timestamp: 2017-03-18 08:49:16\n---\n * altitude: 23.799999999999955 (m)\n * cadence: 87 (rpm)\n * distance: 1481.45 (m)\n * enhanced_altitude: 23.799999999999955 (m)\n * enhanced_speed: 3.228 (m/s)\n * fractional_cadence: 0.0 (rpm)\n * position_lat: 615736250 (semicircles)\n * position_long: -47353096 (semicircles)\n * speed: 3.228 (m/s)\n * timestamp: 2017-03-18 08:49:23\n---\n * altitude: 23.0 (m)\n * cadence: 86 (rpm)\n * distance: 1501.66 (m)\n * enhanced_altitude: 23.0 (m)\n * enhanced_speed: 3.228 (m/s)\n * fractional_cadence: 0.5 (rpm)\n * position_lat: 615737236 (semicircles)\n * position_long: -47349995 (semicircles)\n * speed: 3.228 (m/s)\n * timestamp: 2017-03-18 08:49:29\n---\n * altitude: 21.799999999999955 (m)\n * cadence: 85 (rpm)\n * distance: 1518.21 (m)\n * enhanced_altitude: 21.799999999999955 (m)\n * enhanced_speed: 3.228 (m/s)\n * fractional_cadence: 0.5 (rpm)\n * position_lat: 615738026 (semicircles)\n * position_long: -47347366 (semicircles)\n * speed: 3.228 (m/s)\n * timestamp: 2017-03-18 08:49:36\n---\n * altitude: 18.600000000000023 (m)\n * cadence: 83 (rpm)\n * distance: 1541.19 (m)\n * enhanced_altitude: 18.600000000000023 (m)\n * enhanced_speed: 2.958 (m/s)\n * fractional_cadence: 0.0 (rpm)\n * position_lat: 615738902 (semicircles)\n * position_long: -47344023 (semicircles)\n * speed: 2.958 (m/s)\n * timestamp: 2017-03-18 08:50:12\n---\n * altitude: 18.200000000000045 (m)\n * cadence: 84 (rpm)\n * distance: 1562.36 (m)\n * enhanced_altitude: 18.200000000000045 (m)\n * enhanced_speed: 2.976 (m/s)\n * fractional_cadence: 0.5 (rpm)\n * position_lat: 615739958 (semicircles)\n * position_long: -47340806 (semicircles)\n * speed: 2.976 (m/s)\n * timestamp: 2017-03-18 08:50:19\n---\n * altitude: 17.200000000000045 (m)\n * cadence: 84 (rpm)\n * distance: 1582.37 (m)\n * enhanced_altitude: 17.200000000000045 (m)\n * enhanced_speed: 2.874 (m/s)\n * fractional_cadence: 0.5 (rpm)\n * position_lat: 615740736 (semicircles)\n * position_long: -47337591 (semicircles)\n * speed: 2.874 (m/s)\n * timestamp: 2017-03-18 08:50:26\n---\n * altitude: 17.799999999999955 (m)\n * cadence: 83 (rpm)\n * distance: 1602.93 (m)\n * enhanced_altitude: 17.799999999999955 (m)\n * enhanced_speed: 2.883 (m/s)\n * fractional_cadence: 0.5 (rpm)\n * position_lat: 615741711 (semicircles)\n * position_long: -47334415 (semicircles)\n * speed: 2.883 (m/s)\n * timestamp: 2017-03-18 08:50:33\n---\n * altitude: 12.0 (m)\n * cadence: 85 (rpm)\n * distance: 1624.26 (m)\n * enhanced_altitude: 12.0 (m)\n * enhanced_speed: 2.911 (m/s)\n * fractional_cadence: 0.5 (rpm)\n * position_lat: 615742858 (semicircles)\n * position_long: -47331367 (semicircles)\n * speed: 2.911 (m/s)\n * timestamp: 2017-03-18 08:50:41\n---\n * altitude: 12.0 (m)\n * cadence: 84 (rpm)\n * distance: 1646.03 (m)\n * enhanced_altitude: 12.0 (m)\n * enhanced_speed: 2.948 (m/s)\n * fractional_cadence: 0.5 (rpm)\n * position_lat: 615743870 (semicircles)\n * position_long: -47328005 (semicircles)\n * speed: 2.948 (m/s)\n * timestamp: 2017-03-18 08:50:48\n---\n * altitude: 12.0 (m)\n * cadence: 86 (rpm)\n * distance: 1667.34 (m)\n * enhanced_altitude: 12.0 (m)\n * enhanced_speed: 3.004 (m/s)\n * fractional_cadence: 0.0 (rpm)\n * position_lat: 615744826 (semicircles)\n * position_long: -47324683 (semicircles)\n * speed: 3.004 (m/s)\n * timestamp: 2017-03-18 08:50:55\n---\n * altitude: 10.399999999999977 (m)\n * cadence: 84 (rpm)\n * distance: 1689.69 (m)\n * enhanced_altitude: 10.399999999999977 (m)\n * enhanced_speed: 3.014 (m/s)\n * fractional_cadence: 0.5 (rpm)\n * position_lat: 615745466 (semicircles)\n * position_long: -47320920 (semicircles)\n * speed: 3.014 (m/s)\n * timestamp: 2017-03-18 08:51:03\n---\n * altitude: 11.600000000000023 (m)\n * cadence: 84 (rpm)\n * distance: 1711.73 (m)\n * enhanced_altitude: 11.600000000000023 (m)\n * enhanced_speed: 2.939 (m/s)\n * fractional_cadence: 0.5 (rpm)\n * position_lat: 615746385 (semicircles)\n * position_long: -47317415 (semicircles)\n * speed: 2.939 (m/s)\n * timestamp: 2017-03-18 08:51:11\n---\n * altitude: 11.0 (m)\n * cadence: 0 (rpm)\n * distance: 1724.73 (m)\n * enhanced_altitude: 11.0 (m)\n * enhanced_speed: 2.809 (m/s)\n * fractional_cadence: 0.0 (rpm)\n * position_lat: 615746571 (semicircles)\n * position_long: -47315195 (semicircles)\n * speed: 2.809 (m/s)\n * timestamp: 2017-03-18 08:51:19\n---\n * altitude: 10.199999999999989 (m)\n * cadence: 0 (rpm)\n * distance: 1737.45 (m)\n * enhanced_altitude: 10.199999999999989 (m)\n * enhanced_speed: 0.0 (m/s)\n * fractional_cadence: 0.0 (rpm)\n * position_lat: 615746408 (semicircles)\n * position_long: -47315471 (semicircles)\n * speed: 0.0 (m/s)\n * timestamp: 2017-03-18 08:52:47\n---\n"
     ]
    }
   ],
   "source": [
    "# original version\n",
    "\n",
    "my_run = activity_files[0]\n",
    "\n",
    "with gzip.open(my_run, 'r') as run:\n",
    "    fitfile = fitparse.FitFile(run)\n",
    "\n",
    "    # this next bit is taken from dtcooper github page\n",
    "\n",
    "    # Iterate over all messages of type \"record\"\n",
    "    # (other types include \"device_info\", \"file_creator\", \"event\", etc)\n",
    "    for record in fitfile.get_messages(\"record\"):\n",
    "        # Records can contain multiple pieces of data (ex: timestamp, latitude, longitude, etc)\n",
    "        for data in record:\n",
    "\n",
    "            # Print the name and value of the data (and the units if it has any)\n",
    "            if data.units:\n",
    "                print(\" * {}: {} ({})\".format(data.name, data.value, data.units))\n",
    "            else:\n",
    "                print(\" * {}: {}\".format(data.name, data.value))\n",
    "\n",
    "        print(\"---\")"
   ]
  },
  {
   "source": [
    "I'll use this as a guide to capture the data for my runs and save it in a dataframe."
   ],
   "cell_type": "markdown",
   "metadata": {}
  },
  {
   "cell_type": "code",
   "execution_count": 73,
   "metadata": {
    "tags": []
   },
   "outputs": [
    {
     "output_type": "stream",
     "name": "stderr",
     "text": [
      "813it [03:42,  3.65it/s]\n",
      "Finished!\n"
     ]
    }
   ],
   "source": [
    "# empty list to store run dfs\n",
    "run_dfs = []\n",
    "\n",
    "for run_index, myrun in tqdm(enumerate(run_files)):\n",
    "\n",
    "    # unzip file\n",
    "    with gzip.open(myrun, 'r') as runfile:\n",
    "        fitfile = fitparse.FitFile(runfile)\n",
    "\n",
    "        # record counter\n",
    "        rec_count = 0\n",
    "\n",
    "        # I couldn't find another way to count the number\n",
    "        # of records in a run\n",
    "        for record in fitfile.get_messages(\"record\"):\n",
    "             rec_count +=1\n",
    "\n",
    "        # set up default lists\n",
    "        runs = ['NA'] * rec_count\n",
    "        records = ['NA'] * rec_count\n",
    "        alts = ['NA'] * rec_count\n",
    "        cads = ['NA'] * rec_count\n",
    "        dists = ['NA'] * rec_count\n",
    "        en_alts = ['NA'] * rec_count\n",
    "        en_speeds = ['NA'] * rec_count\n",
    "        frac_cads = ['NA'] * rec_count\n",
    "        pos_lats = ['NA'] * rec_count\n",
    "        pos_longs = ['NA'] * rec_count\n",
    "        speeds = ['NA'] * rec_count\n",
    "        times = ['NA'] * rec_count\n",
    "\n",
    "        # add record data to lists\n",
    "        for record_index, record in enumerate(fitfile.get_messages(\"record\")):\n",
    "            runs[record_index] = run_index + 1\n",
    "            records[record_index] = record_index + 1\n",
    "            for data in record:\n",
    "                if data.name == 'altitude':\n",
    "                    alts[record_index] = data.value\n",
    "                elif data.name == 'cadence':\n",
    "                    cads[record_index] = data.value\n",
    "                elif data.name == 'distance':\n",
    "                    dists[record_index] = data.value\n",
    "                elif data.name == 'enhanced_altitude':\n",
    "                    en_alts[record_index] = data.value\n",
    "                elif data.name == 'enhanced_speed':\n",
    "                    en_speeds[record_index] = data.value\n",
    "                elif data.name == 'fractional_cadence':\n",
    "                    frac_cads[record_index] = data.value\n",
    "                elif data.name == 'position_lat':\n",
    "                    pos_lats[record_index] = data.value\n",
    "                elif data.name == 'position_long':\n",
    "                    pos_longs[record_index] = data.value\n",
    "                elif data.name == 'speed':\n",
    "                    speeds[record_index] = data.value\n",
    "                elif data.name == 'timestamp':\n",
    "                    times[record_index] = data.value\n",
    "\n",
    "        # create dictionary\n",
    "        d = {'Run':runs, 'Record':records, 'Timestamp':times, 'Latitude':pos_lats, 'Longitude':pos_longs, 'Speed':speeds, 'Enhanced_speed':en_speeds, 'Distance':dists, 'Altitude':alts,                    'Enhanced_altitude':en_alts, 'Cadence':cads, 'Fractional_candence':frac_cads}\n",
    "        run_dfs.append(pd.DataFrame(d))\n",
    "\n",
    "# create main dataframe\n",
    "my_run_data = pd.concat(run_dfs, ignore_index = True)\n",
    "\n",
    "print('Finished!')\n"
   ]
  },
  {
   "cell_type": "code",
   "execution_count": 77,
   "metadata": {},
   "outputs": [],
   "source": [
    "# save to csv\n",
    "my_run_data.to_csv('running-data-exports/my_run_data.csv', index = False)"
   ]
  },
  {
   "cell_type": "code",
   "execution_count": 76,
   "metadata": {},
   "outputs": [
    {
     "output_type": "execute_result",
     "data": {
      "text/plain": [
       "        Run  Record           Timestamp   Latitude  Longitude  Speed  \\\n",
       "666944  813    1131 2021-03-30 07:33:06  615868292  -46918829  3.695   \n",
       "666945  813    1132 2021-03-30 07:33:07  615868336  -46919440  3.704   \n",
       "666946  813    1133 2021-03-30 07:33:10  615868373  -46921129  3.704   \n",
       "666947  813    1134 2021-03-30 07:33:12  615868570  -46922182  3.658   \n",
       "666948  813    1135 2021-03-30 07:33:18  615869046  -46925810   3.63   \n",
       "666949  813    1136 2021-03-30 07:33:19  615869235  -46926456  3.639   \n",
       "666950  813    1137 2021-03-30 07:33:22  615869244  -46928051   3.63   \n",
       "666951  813    1138 2021-03-30 07:33:23  615868913  -46928610  3.592   \n",
       "666952  813    1139 2021-03-30 07:33:24  615868639  -46928910  3.574   \n",
       "666953  813    1140 2021-03-30 07:33:27  615867472  -46928956  3.564   \n",
       "666954  813    1141 2021-03-30 07:33:31  615866421  -46928112  3.527   \n",
       "666955  813    1142 2021-03-30 07:33:37  615864211  -46927266  3.471   \n",
       "666956  813    1143 2021-03-30 07:33:43  615862003  -46926308  3.443   \n",
       "666957  813    1144 2021-03-30 07:33:46  615860318  -46925855  3.434   \n",
       "666958  813    1145 2021-03-30 07:33:48  615859313  -46925176  3.443   \n",
       "666959  813    1146 2021-03-30 07:33:50  615858555  -46924522   3.49   \n",
       "666960  813    1147 2021-03-30 07:33:53  615857823  -46924541  3.088   \n",
       "666961  813    1148 2021-03-30 07:33:55  615857620  -46924639  1.885   \n",
       "666962  813    1149 2021-03-30 07:33:56  615857528  -46924798  1.549   \n",
       "666963  813    1150 2021-03-30 07:33:58  615857300  -46924972  1.614   \n",
       "\n",
       "       Enhanced_speed  Distance Altitude Enhanced_altitude Cadence  \\\n",
       "666944          3.695  10161.03      4.0               4.0      92   \n",
       "666945          3.704  10164.60      3.8               3.8      92   \n",
       "666946          3.704  10174.39      3.0               3.0      92   \n",
       "666947          3.658  10180.77      2.4               2.4      93   \n",
       "666948           3.63  10202.30      2.2               2.2      92   \n",
       "666949          3.639  10206.43      2.8               2.8      92   \n",
       "666950           3.63  10216.33      4.2               4.2      92   \n",
       "666951          3.592  10220.80      4.6               4.6      92   \n",
       "666952          3.574  10223.87      4.6               4.6      91   \n",
       "666953          3.564  10235.56      3.8               3.8      91   \n",
       "666954          3.527  10246.44      3.2               3.2      91   \n",
       "666955          3.471  10267.50      2.8               2.8      91   \n",
       "666956          3.443  10288.36      2.4               2.4      90   \n",
       "666957          3.434  10303.37      2.2               2.2      90   \n",
       "666958          3.443  10313.63      2.4               2.4      90   \n",
       "666959           3.49  10321.55      2.8               2.8      89   \n",
       "666960          3.088  10328.39      2.6               2.6      88   \n",
       "666961          1.885  10330.29      2.0               2.0      88   \n",
       "666962          1.549  10331.53      1.8               1.8      88   \n",
       "666963          1.614  10333.70      1.6               1.6      88   \n",
       "\n",
       "       Fractional_candence  \n",
       "666944                 0.0  \n",
       "666945                 0.0  \n",
       "666946                 0.0  \n",
       "666947                 0.0  \n",
       "666948                 0.0  \n",
       "666949                 0.0  \n",
       "666950                 0.0  \n",
       "666951                 0.0  \n",
       "666952                 0.5  \n",
       "666953                 0.5  \n",
       "666954                 0.5  \n",
       "666955                 0.5  \n",
       "666956                 0.0  \n",
       "666957                 0.0  \n",
       "666958                 0.0  \n",
       "666959                 0.0  \n",
       "666960                 0.0  \n",
       "666961                 0.0  \n",
       "666962                 0.0  \n",
       "666963                 0.0  "
      ],
      "text/html": "<div>\n<style scoped>\n    .dataframe tbody tr th:only-of-type {\n        vertical-align: middle;\n    }\n\n    .dataframe tbody tr th {\n        vertical-align: top;\n    }\n\n    .dataframe thead th {\n        text-align: right;\n    }\n</style>\n<table border=\"1\" class=\"dataframe\">\n  <thead>\n    <tr style=\"text-align: right;\">\n      <th></th>\n      <th>Run</th>\n      <th>Record</th>\n      <th>Timestamp</th>\n      <th>Latitude</th>\n      <th>Longitude</th>\n      <th>Speed</th>\n      <th>Enhanced_speed</th>\n      <th>Distance</th>\n      <th>Altitude</th>\n      <th>Enhanced_altitude</th>\n      <th>Cadence</th>\n      <th>Fractional_candence</th>\n    </tr>\n  </thead>\n  <tbody>\n    <tr>\n      <th>666944</th>\n      <td>813</td>\n      <td>1131</td>\n      <td>2021-03-30 07:33:06</td>\n      <td>615868292</td>\n      <td>-46918829</td>\n      <td>3.695</td>\n      <td>3.695</td>\n      <td>10161.03</td>\n      <td>4.0</td>\n      <td>4.0</td>\n      <td>92</td>\n      <td>0.0</td>\n    </tr>\n    <tr>\n      <th>666945</th>\n      <td>813</td>\n      <td>1132</td>\n      <td>2021-03-30 07:33:07</td>\n      <td>615868336</td>\n      <td>-46919440</td>\n      <td>3.704</td>\n      <td>3.704</td>\n      <td>10164.60</td>\n      <td>3.8</td>\n      <td>3.8</td>\n      <td>92</td>\n      <td>0.0</td>\n    </tr>\n    <tr>\n      <th>666946</th>\n      <td>813</td>\n      <td>1133</td>\n      <td>2021-03-30 07:33:10</td>\n      <td>615868373</td>\n      <td>-46921129</td>\n      <td>3.704</td>\n      <td>3.704</td>\n      <td>10174.39</td>\n      <td>3.0</td>\n      <td>3.0</td>\n      <td>92</td>\n      <td>0.0</td>\n    </tr>\n    <tr>\n      <th>666947</th>\n      <td>813</td>\n      <td>1134</td>\n      <td>2021-03-30 07:33:12</td>\n      <td>615868570</td>\n      <td>-46922182</td>\n      <td>3.658</td>\n      <td>3.658</td>\n      <td>10180.77</td>\n      <td>2.4</td>\n      <td>2.4</td>\n      <td>93</td>\n      <td>0.0</td>\n    </tr>\n    <tr>\n      <th>666948</th>\n      <td>813</td>\n      <td>1135</td>\n      <td>2021-03-30 07:33:18</td>\n      <td>615869046</td>\n      <td>-46925810</td>\n      <td>3.63</td>\n      <td>3.63</td>\n      <td>10202.30</td>\n      <td>2.2</td>\n      <td>2.2</td>\n      <td>92</td>\n      <td>0.0</td>\n    </tr>\n    <tr>\n      <th>666949</th>\n      <td>813</td>\n      <td>1136</td>\n      <td>2021-03-30 07:33:19</td>\n      <td>615869235</td>\n      <td>-46926456</td>\n      <td>3.639</td>\n      <td>3.639</td>\n      <td>10206.43</td>\n      <td>2.8</td>\n      <td>2.8</td>\n      <td>92</td>\n      <td>0.0</td>\n    </tr>\n    <tr>\n      <th>666950</th>\n      <td>813</td>\n      <td>1137</td>\n      <td>2021-03-30 07:33:22</td>\n      <td>615869244</td>\n      <td>-46928051</td>\n      <td>3.63</td>\n      <td>3.63</td>\n      <td>10216.33</td>\n      <td>4.2</td>\n      <td>4.2</td>\n      <td>92</td>\n      <td>0.0</td>\n    </tr>\n    <tr>\n      <th>666951</th>\n      <td>813</td>\n      <td>1138</td>\n      <td>2021-03-30 07:33:23</td>\n      <td>615868913</td>\n      <td>-46928610</td>\n      <td>3.592</td>\n      <td>3.592</td>\n      <td>10220.80</td>\n      <td>4.6</td>\n      <td>4.6</td>\n      <td>92</td>\n      <td>0.0</td>\n    </tr>\n    <tr>\n      <th>666952</th>\n      <td>813</td>\n      <td>1139</td>\n      <td>2021-03-30 07:33:24</td>\n      <td>615868639</td>\n      <td>-46928910</td>\n      <td>3.574</td>\n      <td>3.574</td>\n      <td>10223.87</td>\n      <td>4.6</td>\n      <td>4.6</td>\n      <td>91</td>\n      <td>0.5</td>\n    </tr>\n    <tr>\n      <th>666953</th>\n      <td>813</td>\n      <td>1140</td>\n      <td>2021-03-30 07:33:27</td>\n      <td>615867472</td>\n      <td>-46928956</td>\n      <td>3.564</td>\n      <td>3.564</td>\n      <td>10235.56</td>\n      <td>3.8</td>\n      <td>3.8</td>\n      <td>91</td>\n      <td>0.5</td>\n    </tr>\n    <tr>\n      <th>666954</th>\n      <td>813</td>\n      <td>1141</td>\n      <td>2021-03-30 07:33:31</td>\n      <td>615866421</td>\n      <td>-46928112</td>\n      <td>3.527</td>\n      <td>3.527</td>\n      <td>10246.44</td>\n      <td>3.2</td>\n      <td>3.2</td>\n      <td>91</td>\n      <td>0.5</td>\n    </tr>\n    <tr>\n      <th>666955</th>\n      <td>813</td>\n      <td>1142</td>\n      <td>2021-03-30 07:33:37</td>\n      <td>615864211</td>\n      <td>-46927266</td>\n      <td>3.471</td>\n      <td>3.471</td>\n      <td>10267.50</td>\n      <td>2.8</td>\n      <td>2.8</td>\n      <td>91</td>\n      <td>0.5</td>\n    </tr>\n    <tr>\n      <th>666956</th>\n      <td>813</td>\n      <td>1143</td>\n      <td>2021-03-30 07:33:43</td>\n      <td>615862003</td>\n      <td>-46926308</td>\n      <td>3.443</td>\n      <td>3.443</td>\n      <td>10288.36</td>\n      <td>2.4</td>\n      <td>2.4</td>\n      <td>90</td>\n      <td>0.0</td>\n    </tr>\n    <tr>\n      <th>666957</th>\n      <td>813</td>\n      <td>1144</td>\n      <td>2021-03-30 07:33:46</td>\n      <td>615860318</td>\n      <td>-46925855</td>\n      <td>3.434</td>\n      <td>3.434</td>\n      <td>10303.37</td>\n      <td>2.2</td>\n      <td>2.2</td>\n      <td>90</td>\n      <td>0.0</td>\n    </tr>\n    <tr>\n      <th>666958</th>\n      <td>813</td>\n      <td>1145</td>\n      <td>2021-03-30 07:33:48</td>\n      <td>615859313</td>\n      <td>-46925176</td>\n      <td>3.443</td>\n      <td>3.443</td>\n      <td>10313.63</td>\n      <td>2.4</td>\n      <td>2.4</td>\n      <td>90</td>\n      <td>0.0</td>\n    </tr>\n    <tr>\n      <th>666959</th>\n      <td>813</td>\n      <td>1146</td>\n      <td>2021-03-30 07:33:50</td>\n      <td>615858555</td>\n      <td>-46924522</td>\n      <td>3.49</td>\n      <td>3.49</td>\n      <td>10321.55</td>\n      <td>2.8</td>\n      <td>2.8</td>\n      <td>89</td>\n      <td>0.0</td>\n    </tr>\n    <tr>\n      <th>666960</th>\n      <td>813</td>\n      <td>1147</td>\n      <td>2021-03-30 07:33:53</td>\n      <td>615857823</td>\n      <td>-46924541</td>\n      <td>3.088</td>\n      <td>3.088</td>\n      <td>10328.39</td>\n      <td>2.6</td>\n      <td>2.6</td>\n      <td>88</td>\n      <td>0.0</td>\n    </tr>\n    <tr>\n      <th>666961</th>\n      <td>813</td>\n      <td>1148</td>\n      <td>2021-03-30 07:33:55</td>\n      <td>615857620</td>\n      <td>-46924639</td>\n      <td>1.885</td>\n      <td>1.885</td>\n      <td>10330.29</td>\n      <td>2.0</td>\n      <td>2.0</td>\n      <td>88</td>\n      <td>0.0</td>\n    </tr>\n    <tr>\n      <th>666962</th>\n      <td>813</td>\n      <td>1149</td>\n      <td>2021-03-30 07:33:56</td>\n      <td>615857528</td>\n      <td>-46924798</td>\n      <td>1.549</td>\n      <td>1.549</td>\n      <td>10331.53</td>\n      <td>1.8</td>\n      <td>1.8</td>\n      <td>88</td>\n      <td>0.0</td>\n    </tr>\n    <tr>\n      <th>666963</th>\n      <td>813</td>\n      <td>1150</td>\n      <td>2021-03-30 07:33:58</td>\n      <td>615857300</td>\n      <td>-46924972</td>\n      <td>1.614</td>\n      <td>1.614</td>\n      <td>10333.70</td>\n      <td>1.6</td>\n      <td>1.6</td>\n      <td>88</td>\n      <td>0.0</td>\n    </tr>\n  </tbody>\n</table>\n</div>"
     },
     "metadata": {},
     "execution_count": 76
    }
   ],
   "source": [
    "my_run_data.tail(20)"
   ]
  },
  {
   "cell_type": "code",
   "execution_count": null,
   "metadata": {},
   "outputs": [],
   "source": []
  },
  {
   "cell_type": "code",
   "execution_count": null,
   "metadata": {},
   "outputs": [],
   "source": []
  },
  {
   "cell_type": "code",
   "execution_count": null,
   "metadata": {},
   "outputs": [],
   "source": []
  },
  {
   "cell_type": "code",
   "execution_count": 58,
   "metadata": {},
   "outputs": [
    {
     "output_type": "stream",
     "name": "stdout",
     "text": [
      "runs has 856 values\nrecords has 856 values\ntimes has 856 values\npos_lats has 856 values\npos_longs 856 values\nspeeds 856 values\nen_speeds 856 values\ndists 856 values\nalts 856 values\nen_alts 856 values\ncads 856 values\nfrac_cads 856 values\n"
     ]
    }
   ],
   "source": [
    "print('runs has', len(runs), 'values')\n",
    "print('records has', len(records), 'values')\n",
    "print('times has', len(times), 'values')\n",
    "print('pos_lats has', len(pos_lats), 'values')\n",
    "print('pos_longs', len(pos_longs), 'values')\n",
    "print('speeds', len(speeds), 'values')\n",
    "print('en_speeds', len(en_speeds), 'values')\n",
    "print('dists', len(dists), 'values')\n",
    "print('alts', len(alts), 'values')\n",
    "print('en_alts', len(en_alts), 'values')\n",
    "print('cads', len(cads), 'values')\n",
    "print('frac_cads', len(frac_cads), 'values')"
   ]
  },
  {
   "cell_type": "code",
   "execution_count": null,
   "metadata": {},
   "outputs": [],
   "source": []
  },
  {
   "cell_type": "code",
   "execution_count": null,
   "metadata": {},
   "outputs": [],
   "source": []
  },
  {
   "cell_type": "code",
   "execution_count": null,
   "metadata": {},
   "outputs": [],
   "source": []
  }
 ],
 "metadata": {
  "kernelspec": {
   "name": "python376jvsc74a57bd0a52aec97dc5fdc943310bda3429dc8e9f9521fc74ec7239c53840c0d02b56a20",
   "display_name": "Python 3.7.6 64-bit"
  },
  "language_info": {
   "codemirror_mode": {
    "name": "ipython",
    "version": 3
   },
   "file_extension": ".py",
   "mimetype": "text/x-python",
   "name": "python",
   "nbconvert_exporter": "python",
   "pygments_lexer": "ipython3",
   "version": "3.7.6"
  }
 },
 "nbformat": 4,
 "nbformat_minor": 2
}