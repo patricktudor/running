{
 "cells": [
  {
   "cell_type": "markdown",
   "metadata": {},
   "source": [
    "# Running\n",
    "\n",
    "I love running. I also collect a lot of data about my runs through my Garmin watch. It's about time I did something interesting with it.\n",
    "\n",
    "## Where to get the data from?\n",
    "\n",
    "Garmin Connect and Strava are the two obvious places to retrieve my running history. Both give the user the option to bulk export their data history.\n",
    "\n",
    "- Garmin - [https://www.garmin.com/en-US/account/datamanagement/exportdata/](https://www.garmin.com/en-US/account/datamanagement/exportdata/)\n",
    "- Strava - [https://www.strava.com/athlete/delete_your_account](https://www.strava.com/athlete/delete_your_account) (don't be scared by the page name)\n",
    "\n",
    "These need to be compiled so these requests can take a while. They both send a link to your email address for you to retrieve the data. For me, Strava took about 5 mins, Garmin took about 20 mins. After having a quick look through both folders, Strava seems a lot more intuitive to understand, so for now I'll focus on files from there.\n",
    "\n",
    "## File types\n",
    "\n",
    "There are several file types across the folders=\n",
    "\n",
    "- `csv` - the activites summary is in this format\n",
    "- `gpx` - routes and some activities are stored as this\n",
    "- `gz` - most of the activities are in this format"
   ]
  },
  {
   "cell_type": "code",
   "execution_count": null,
   "metadata": {},
   "outputs": [],
   "source": [
    "# get path for single activity file\n",
    "activity = "
   ]
  }
 ],
 "metadata": {
  "kernelspec": {
   "display_name": "Python 3",
   "language": "python",
   "name": "python3"
  },
  "language_info": {
   "codemirror_mode": {
    "name": "ipython",
    "version": 3
   },
   "file_extension": ".py",
   "mimetype": "text/x-python",
   "name": "python",
   "nbconvert_exporter": "python",
   "pygments_lexer": "ipython3",
   "version": "3.7.6"
  }
 },
 "nbformat": 4,
 "nbformat_minor": 2
}
